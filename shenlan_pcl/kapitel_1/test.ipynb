{
 "cells": [
  {
   "cell_type": "code",
   "execution_count": 5,
   "source": [
    "import numpy as np\n",
    "\n",
    "x = np.array([6, 2, 3, 3, 5 ,4, 9]) \n",
    "x_indice = np.argsort(x)\n",
    "print('x_indice is ', x_indice)\n",
    "x_sorted = x[x_indice]\n",
    "print('x_sorted is ', x_sorted)\n",
    "\n",
    "point_idx = x_indice[1: 4]\n",
    "point_idx\n",
    "x[point_idx]"
   ],
   "outputs": [
    {
     "output_type": "stream",
     "name": "stdout",
     "text": [
      "x_indice is  [1 2 3 5 4 0 6]\n",
      "x_sorted is  [2 3 3 4 5 6 9]\n"
     ]
    },
    {
     "output_type": "execute_result",
     "data": {
      "text/plain": [
       "array([2, 3, 5])"
      ]
     },
     "metadata": {},
     "execution_count": 5
    }
   ],
   "metadata": {}
  },
  {
   "cell_type": "markdown",
   "source": [],
   "metadata": {}
  }
 ],
 "metadata": {
  "orig_nbformat": 4,
  "language_info": {
   "name": "python",
   "version": "3.6.12",
   "mimetype": "text/x-python",
   "codemirror_mode": {
    "name": "ipython",
    "version": 3
   },
   "pygments_lexer": "ipython3",
   "nbconvert_exporter": "python",
   "file_extension": ".py"
  },
  "kernelspec": {
   "name": "python3",
   "display_name": "Python 3.6.12 64-bit ('TensorflowVenv': conda)"
  },
  "interpreter": {
   "hash": "288dc505b1735950675cb6f16cc272b5570322b0cec1cfc7724529e7cba813a7"
  }
 },
 "nbformat": 4,
 "nbformat_minor": 2
}